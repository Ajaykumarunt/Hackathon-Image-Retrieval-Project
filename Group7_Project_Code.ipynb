{
 "cells": [
  {
   "cell_type": "code",
   "execution_count": 58,
   "id": "fc11a887",
   "metadata": {},
   "outputs": [
    {
     "name": "stdout",
     "output_type": "stream",
     "text": [
      "Requirement already satisfied: torch in c:\\users\\ajayk\\anaconda3\\lib\\site-packages (2.1.1)\n",
      "Requirement already satisfied: torchvision in c:\\users\\ajayk\\anaconda3\\lib\\site-packages (0.16.1)\n",
      "Requirement already satisfied: pillow in c:\\users\\ajayk\\anaconda3\\lib\\site-packages (10.0.1)\n",
      "Requirement already satisfied: filelock in c:\\users\\ajayk\\anaconda3\\lib\\site-packages (from torch) (3.9.0)\n",
      "Requirement already satisfied: typing-extensions in c:\\users\\ajayk\\anaconda3\\lib\\site-packages (from torch) (4.7.1)\n",
      "Requirement already satisfied: sympy in c:\\users\\ajayk\\anaconda3\\lib\\site-packages (from torch) (1.11.1)\n",
      "Requirement already satisfied: networkx in c:\\users\\ajayk\\anaconda3\\lib\\site-packages (from torch) (3.1)\n",
      "Requirement already satisfied: jinja2 in c:\\users\\ajayk\\anaconda3\\lib\\site-packages (from torch) (3.1.2)\n",
      "Requirement already satisfied: fsspec in c:\\users\\ajayk\\anaconda3\\lib\\site-packages (from torch) (2023.4.0)\n",
      "Requirement already satisfied: numpy in c:\\users\\ajayk\\anaconda3\\lib\\site-packages (from torchvision) (1.24.3)\n",
      "Requirement already satisfied: requests in c:\\users\\ajayk\\anaconda3\\lib\\site-packages (from torchvision) (2.31.0)\n",
      "Requirement already satisfied: MarkupSafe>=2.0 in c:\\users\\ajayk\\anaconda3\\lib\\site-packages (from jinja2->torch) (2.1.1)\n",
      "Requirement already satisfied: charset-normalizer<4,>=2 in c:\\users\\ajayk\\anaconda3\\lib\\site-packages (from requests->torchvision) (2.0.4)\n",
      "Requirement already satisfied: idna<4,>=2.5 in c:\\users\\ajayk\\anaconda3\\lib\\site-packages (from requests->torchvision) (3.4)\n",
      "Requirement already satisfied: urllib3<3,>=1.21.1 in c:\\users\\ajayk\\anaconda3\\lib\\site-packages (from requests->torchvision) (1.26.16)\n",
      "Requirement already satisfied: certifi>=2017.4.17 in c:\\users\\ajayk\\anaconda3\\lib\\site-packages (from requests->torchvision) (2023.11.17)\n",
      "Requirement already satisfied: mpmath>=0.19 in c:\\users\\ajayk\\anaconda3\\lib\\site-packages (from sympy->torch) (1.3.0)\n"
     ]
    }
   ],
   "source": [
    "!pip install torch torchvision pillow\n"
   ]
  },
  {
   "cell_type": "code",
   "execution_count": 59,
   "id": "065f7eb2",
   "metadata": {},
   "outputs": [
    {
     "name": "stdout",
     "output_type": "stream",
     "text": [
      "Requirement already satisfied: numpy in c:\\users\\ajayk\\anaconda3\\lib\\site-packages (1.24.3)\n"
     ]
    }
   ],
   "source": [
    "!pip install numpy\n",
    "import heapq\n",
    "import numpy as np\n",
    "import os\n",
    "from PIL import Image\n",
    "import torch\n",
    "import torchvision.transforms as transforms\n",
    "from torchvision.models import resnet50\n",
    "from scipy.spatial.distance import cosine\n"
   ]
  },
  {
   "cell_type": "code",
   "execution_count": 60,
   "id": "156380fe",
   "metadata": {},
   "outputs": [],
   "source": [
    "\n",
    "def load_model():\n",
    "    model = resnet50(pretrained=True)\n",
    "    model.eval()\n",
    "    return model\n"
   ]
  },
  {
   "cell_type": "code",
   "execution_count": 61,
   "id": "ba1731a9",
   "metadata": {},
   "outputs": [
    {
     "name": "stdout",
     "output_type": "stream",
     "text": [
      "Requirement already satisfied: scikit-learn in c:\\users\\ajayk\\anaconda3\\lib\\site-packages (1.1.3)\n",
      "Requirement already satisfied: numpy>=1.17.3 in c:\\users\\ajayk\\anaconda3\\lib\\site-packages (from scikit-learn) (1.24.3)\n",
      "Requirement already satisfied: scipy>=1.3.2 in c:\\users\\ajayk\\anaconda3\\lib\\site-packages (from scikit-learn) (1.10.0)\n",
      "Requirement already satisfied: joblib>=1.0.0 in c:\\users\\ajayk\\anaconda3\\lib\\site-packages (from scikit-learn) (1.2.0)\n",
      "Requirement already satisfied: threadpoolctl>=2.0.0 in c:\\users\\ajayk\\anaconda3\\lib\\site-packages (from scikit-learn) (2.2.0)\n"
     ]
    }
   ],
   "source": [
    "!pip install scikit-learn\n"
   ]
  },
  {
   "cell_type": "code",
   "execution_count": 62,
   "id": "9e983f19",
   "metadata": {},
   "outputs": [],
   "source": [
    "# Initialize model and transformations\n",
    "\n",
    "model=load_model()"
   ]
  },
  {
   "cell_type": "code",
   "execution_count": 63,
   "id": "73d7b010",
   "metadata": {},
   "outputs": [],
   "source": [
    "transform = transforms.Compose([\n",
    "    transforms.Resize((224, 224)),\n",
    "    transforms.ToTensor(),\n",
    "    transforms.Normalize(mean=[0.485, 0.456, 0.406], std=[0.229, 0.224, 0.225]),\n",
    "])\n"
   ]
  },
  {
   "cell_type": "code",
   "execution_count": 64,
   "id": "ed614343",
   "metadata": {},
   "outputs": [],
   "source": [
    "import numpy as np\n",
    "def get_image_feature_vector(img_path, model, transform):\n",
    "    img = Image.open(img_path).convert('RGB')\n",
    "    img_t = transform(img)\n",
    "    #print(img_t)\n",
    "    batch_t = torch.unsqueeze(img_t, 0)\n",
    "    with torch.no_grad():\n",
    "        out = model(batch_t)\n",
    "    return out[0]\n"
   ]
  },
  {
   "cell_type": "code",
   "execution_count": 65,
   "id": "3bfe42ad",
   "metadata": {},
   "outputs": [],
   "source": [
    "def precision_at_k(retrieved, relevant, k):\n",
    "    if k > len(retrieved):\n",
    "        k = len(retrieved)\n",
    "    retrieved_at_k = retrieved[:k]\n",
    "    \n",
    "    hits = sum([1 for r in retrieved_at_k if r in relevant])\n",
    "    return hits / k if k > 0 else 0\n",
    "\n",
    "def recall_at_k(retrieved, relevant, k):\n",
    "    if k > len(retrieved):\n",
    "        k = len(retrieved)\n",
    "    retrieved_at_k = retrieved[:k]\n",
    "    hits = 0\n",
    "    for r in retrieved_at_k:\n",
    "        if r in relevant:\n",
    "            hits += 1\n",
    "    #hits = sum([1 for r in retrieved_at_k if r in relevant])\n",
    "    return hits / len(relevant) if len(relevant) > 0 else 0"
   ]
  },
  {
   "cell_type": "code",
   "execution_count": 66,
   "id": "89bee7f3",
   "metadata": {},
   "outputs": [],
   "source": [
    "ground_truth = {\n",
    "    'C:/Users/ajayk/Downloads/unt/irs/archive/query/bear.jpg': {\n",
    "        'C:/Users/ajayk/Downloads/unt/irs/archive/accuracy/4870.jpg',\n",
    "        'C:/Users/ajayk/Downloads/unt/irs/archive/accuracy/4871.jpg',\n",
    "        'C:/Users/ajayk/Downloads/unt/irs/archive/accuracy/4873.jpg',\n",
    "        'C:/Users/ajayk/Downloads/unt/irs/archive/accuracy/4875.jpg',\n",
    "        'C:/Users/ajayk/Downloads/unt/irs/archive/accuracy/4872.jpg'\n",
    "    },\n",
    "    'C:/Users/ajayk/Downloads/unt/irs/archive/query/cat.jpg': {\n",
    "        'C:/Users/ajayk/Downloads/unt/irs/archive/accuracy/4857.jpg',\n",
    "        'C:/Users/ajayk/Downloads/unt/irs/archive/accuracy/4858.jpg',\n",
    "        'C:/Users/ajayk/Downloads/unt/irs/archive/accuracy/4856.jpg',\n",
    "        'C:/Users/ajayk/Downloads/unt/irs/archive/accuracy/4860.jpg',\n",
    "        'C:/Users/ajayk/Downloads/unt/irs/archive/accuracy/4861.jpg'\n",
    "        \n",
    "    }\n",
    "    ,\n",
    "    'C:/Users/ajayk/Downloads/unt/irs/archive/query/dog.jpg': {\n",
    "        'C:/Users/ajayk/Downloads/unt/irs/archive/accuracy/4855.jpg',\n",
    "        'C:/Users/ajayk/Downloads/unt/irs/archive/accuracy/4838.jpg',\n",
    "        'C:/Users/ajayk/Downloads/unt/irs/archive/accuracy/4839.jpg',\n",
    "        'C:/Users/ajayk/Downloads/unt/irs/archive/accuracy/4849.jpg',\n",
    "        'C:/Users/ajayk/Downloads/unt/irs/archive/accuracy/4851.jpg'\n",
    "        \n",
    "    },\n",
    "    'C:/Users/ajayk/Downloads/unt/irs/archive/query/tiger.jpg': {\n",
    "        'C:/Users/ajayk/Downloads/unt/irs/archive/accuracy/48.jpg',\n",
    "        'C:/Users/ajayk/Downloads/unt/irs/archive/accuracy/47.jpg',\n",
    "        'C:/Users/ajayk/Downloads/unt/irs/archive/accuracy/27.jpg',\n",
    "        'C:/Users/ajayk/Downloads/unt/irs/archive/accuracy/247.jpg',\n",
    "        'C:/Users/ajayk/Downloads/unt/irs/archive/accuracy/0.jpg'\n",
    "        \n",
    "    },\n",
    "    'C:/Users/ajayk/Downloads/unt/irs/archive/query/lion.jpg': {\n",
    "        'C:/Users/ajayk/Downloads/unt/irs/archive/accuracy/888.jpg',\n",
    "        'C:/Users/ajayk/Downloads/unt/irs/archive/accuracy/898.jpg',\n",
    "        'C:/Users/ajayk/Downloads/unt/irs/archive/accuracy/899.jpg',\n",
    "        'C:/Users/ajayk/Downloads/unt/irs/archive/accuracy/901.jpg',\n",
    "        'C:/Users/ajayk/Downloads/unt/irs/archive/accuracy/907.jpg',\n",
    "        'C:/Users/ajayk/Downloads/unt/irs/archive/accuracy/1052.jpg'\n",
    "        \n",
    "        \n",
    "    },\n",
    "    'C:/Users/ajayk/Downloads/unt/irs/archive/query/human.jpg':{\n",
    "        \n",
    "    }\n",
    "}\n"
   ]
  },
  {
   "cell_type": "code",
   "execution_count": 77,
   "id": "59c0279e",
   "metadata": {},
   "outputs": [],
   "source": [
    "# Query Image path:\n",
    "\n",
    "test_data = ['C:/Users/ajayk/Downloads/unt/irs/archive/query/dog.jpg'\n",
    "             ]\n"
   ]
  },
  {
   "cell_type": "code",
   "execution_count": 78,
   "id": "6a65ffaa",
   "metadata": {},
   "outputs": [],
   "source": [
    "import numpy as np\n",
    "\n",
    "def find_most_similar_images(input_img_path, folder_path, model, transform, top_k=3):\n",
    "    input_feature = get_image_feature_vector(input_img_path, model, transform)\n",
    "    top_images = []\n",
    "\n",
    "    for img_name in os.listdir(folder_path):\n",
    "        #img_path = os.path.join(folder_path, img_name)\n",
    "        img_path = os.path.join(folder_path, img_name).replace('\\\\', '/')\n",
    "        if img_path == input_img_path:\n",
    "            continue\n",
    "\n",
    "        feature = get_image_feature_vector(img_path, model, transform)\n",
    "        dist = cosine(input_feature, feature)\n",
    "        if len(top_images) < top_k:\n",
    "            heapq.heappush(top_images, (-dist, img_path))  # Use negative distance for max heap\n",
    "        else:\n",
    "            heapq.heappushpop(top_images, (-dist, img_path))  # Replace if new distance is smaller\n",
    "\n",
    "    # Return paths of top k images\n",
    "    return [img for _, img in sorted(top_images, reverse=True)]\n",
    "\n",
    "\n",
    "def test_cbir_performance(model, transform, test_data, ground_truth, k=3):\n",
    "    precisions = []\n",
    "    recalls = []\n",
    "\n",
    "    for test_img in test_data:\n",
    "        \n",
    "        most_similar_images = find_most_similar_images(test_img, folder_path, model, transform, top_k=k)\n",
    "        for similar_image in most_similar_images:\n",
    "            output_path = os.path.join(output_folder, os.path.basename(similar_image))\n",
    "            Image.open(similar_image).save(output_path)\n",
    "\n",
    "\n",
    "        relevant_images = ground_truth[test_img]\n",
    "        #print(most_similar_images, relevant_images)\n",
    "        precisions.append(precision_at_k(most_similar_images, relevant_images, k))\n",
    "        recalls.append(recall_at_k(most_similar_images, relevant_images, k))\n",
    "\n",
    "    avg_precision = np.mean(precisions)\n",
    "    avg_recall = np.mean(recalls)\n",
    "    return avg_precision, avg_recall\n",
    "\n",
    "\n",
    "# Input image and folder paths\n",
    "folder_path = 'C:/Users/ajayk/Downloads/unt/irs/archive/data'\n",
    "output_folder = 'C:/Users/ajayk/Downloads/unt/irs/archive/output'\n",
    "\n",
    "\n",
    "avg_precision, avg_recall = test_cbir_performance(model, transform, test_data, ground_truth)\n"
   ]
  },
  {
   "cell_type": "code",
   "execution_count": 79,
   "id": "4c77e9ab",
   "metadata": {},
   "outputs": [
    {
     "name": "stdout",
     "output_type": "stream",
     "text": [
      "Average Precision@3: 0.7333333333333333\n",
      "Average Recall@3: 0.44000000000000006\n"
     ]
    }
   ],
   "source": [
    "\n",
    "\n",
    "\n",
    "\n",
    "def find_most_similar_images(input_img_path, folder_path, model, transform, top_k=3):\n",
    "    input_feature = get_image_feature_vector(input_img_path, model, transform)\n",
    "    top_images = []\n",
    "\n",
    "    for img_name in os.listdir(folder_path):\n",
    "        img_path = os.path.join(folder_path, img_name).replace('\\\\', '/')\n",
    "        if img_path == input_img_path:\n",
    "            continue\n",
    "\n",
    "        feature = get_image_feature_vector(img_path, model, transform)\n",
    "        dist = cosine(input_feature, feature)\n",
    "        if len(top_images) < top_k:\n",
    "            heapq.heappush(top_images, (-dist, img_path))  # Use negative distance for max heap\n",
    "        else:\n",
    "            heapq.heappushpop(top_images, (-dist, img_path))  # Replace if new distance is smaller\n",
    "\n",
    "    # Return paths of top k images\n",
    "    return [img for _, img in sorted(top_images, reverse=True)]\n",
    "\n",
    "\n",
    "\n",
    "def test_cbir_performance(model, transform, test_data, ground_truth, k=3):\n",
    "    precisions = []\n",
    "    recalls = []\n",
    "\n",
    "    for test_img in test_data:\n",
    "        most_similar_images = find_most_similar_images(test_img, folder_path, model, transform, top_k=k)\n",
    "        if not os.path.exists(output_folder):\n",
    "            os.makedirs(output_folder)\n",
    "            print(f\"Created output folder: {output_folder}\")\n",
    "\n",
    "        for similar_image in most_similar_images:\n",
    "            output_path = os.path.join(output_folder, os.path.basename(similar_image))\n",
    "            try:\n",
    "                Image.open(similar_image).save(output_path)\n",
    "                #print(f\"Similar image saved to {output_path}\")\n",
    "            except Exception as e:\n",
    "                print(f\"Failed to save image {similar_image}. Error: {e}\")\n",
    "        for similar_image in most_similar_images:\n",
    "            output_path = os.path.join(output_folder, os.path.basename(similar_image))\n",
    "            Image.open(similar_image).save(output_path)\n",
    "\n",
    "        \n",
    "        \n",
    "        relevant_images = ground_truth[test_img]\n",
    "\n",
    "        precisions.append(precision_at_k(most_similar_images, relevant_images, k))\n",
    "        recalls.append(recall_at_k(most_similar_images, relevant_images, k))\n",
    "\n",
    "    avg_precision = np.mean(precisions)\n",
    "    avg_recall = np.mean(recalls)\n",
    "    return avg_precision, avg_recall\n",
    "\n",
    "\n",
    "\n",
    "# Example usage\n",
    "test_data = [\n",
    "    'C:/Users/ajayk/Downloads/unt/irs/archive/query/bear.jpg',\n",
    "    'C:/Users/ajayk/Downloads/unt/irs/archive/query/cat.jpg',\n",
    "    'C:/Users/ajayk/Downloads/unt/irs/archive/query/dog.jpg',\n",
    "    'C:/Users/ajayk/Downloads/unt/irs/archive/query/tiger.jpg',\n",
    "    'C:/Users/ajayk/Downloads/unt/irs/archive/query/lion.jpg'\n",
    "]\n",
    "\n",
    "folder_path = 'C:/Users/ajayk/Downloads/unt/irs/archive/accuracy'\n",
    "output_folder = 'C:/Users/ajayk/Downloads/unt/irs/archive/accuracy'\n",
    "\n",
    "avg_precision, avg_recall = test_cbir_performance(model, transform, test_data, ground_truth)\n",
    "print(f\"Average Precision@3: {avg_precision}\")\n",
    "print(f\"Average Recall@3: {avg_recall}\")\n"
   ]
  },
  {
   "cell_type": "code",
   "execution_count": 75,
   "id": "8b35cce3",
   "metadata": {},
   "outputs": [
    {
     "name": "stdout",
     "output_type": "stream",
     "text": [
      "CBIR Accuracy: 0.8\n"
     ]
    }
   ],
   "source": [
    "def cbir_accuracy(test_data, ground_truth, folder_path, model, transform, k=3):\n",
    "    correct_retrievals = 0\n",
    "\n",
    "    for test_img in test_data:\n",
    "        most_similar_images = find_most_similar_images(test_img, folder_path, model, transform, top_k=k)\n",
    "        relevant_images = ground_truth[test_img]\n",
    "\n",
    "        # Check if at least one retrieved image is relevant\n",
    "        if any(img in relevant_images for img in most_similar_images):\n",
    "            correct_retrievals += 1\n",
    "\n",
    "    return correct_retrievals / len(test_data) if len(test_data) > 0 else 0\n",
    "\n",
    "# Usage\n",
    "accuracy = cbir_accuracy(test_data, ground_truth, folder_path, model, transform, k=3)\n",
    "print(f\"CBIR Accuracy: {accuracy}\")\n"
   ]
  },
  {
   "cell_type": "code",
   "execution_count": 76,
   "id": "557d86a2",
   "metadata": {},
   "outputs": [
    {
     "name": "stdout",
     "output_type": "stream",
     "text": [
      "Average F1 Score@3: 0.55\n"
     ]
    }
   ],
   "source": [
    "def f1_score_at_k(retrieved, relevant, k):\n",
    "    precision = precision_at_k(retrieved, relevant, k)\n",
    "    recall = recall_at_k(retrieved, relevant, k)\n",
    "\n",
    "    if precision + recall == 0:\n",
    "        return 0\n",
    "    return 2 * (precision * recall) / (precision + recall)\n",
    "\n",
    "def calculate_f1_score(model, transform, test_data, ground_truth, k=3):\n",
    "    f1_scores = []\n",
    "\n",
    "    for test_img in test_data:\n",
    "        most_similar_images = find_most_similar_images(test_img, folder_path, model, transform, top_k=k)\n",
    "        relevant_images = ground_truth[test_img]\n",
    "\n",
    "        f1 = f1_score_at_k(most_similar_images, relevant_images, k)\n",
    "        f1_scores.append(f1)\n",
    "\n",
    "    avg_f1_score = np.mean(f1_scores) if f1_scores else 0\n",
    "    return avg_f1_score\n",
    "\n",
    "# Usage\n",
    "avg_f1_score = calculate_f1_score(model, transform, test_data, ground_truth, k=3)\n",
    "print(f\"Average F1 Score@3: {avg_f1_score}\")\n"
   ]
  },
  {
   "cell_type": "code",
   "execution_count": null,
   "id": "14d0f3f2",
   "metadata": {},
   "outputs": [],
   "source": []
  },
  {
   "cell_type": "code",
   "execution_count": null,
   "id": "05fcd45e",
   "metadata": {},
   "outputs": [],
   "source": []
  },
  {
   "cell_type": "code",
   "execution_count": null,
   "id": "1537b0a0",
   "metadata": {},
   "outputs": [],
   "source": []
  },
  {
   "cell_type": "code",
   "execution_count": null,
   "id": "4ed9fe5b",
   "metadata": {},
   "outputs": [],
   "source": []
  },
  {
   "cell_type": "code",
   "execution_count": null,
   "id": "6cfeb344",
   "metadata": {},
   "outputs": [],
   "source": []
  },
  {
   "cell_type": "code",
   "execution_count": null,
   "id": "9cd85aed",
   "metadata": {},
   "outputs": [],
   "source": []
  },
  {
   "cell_type": "code",
   "execution_count": null,
   "id": "46d996d0",
   "metadata": {},
   "outputs": [],
   "source": []
  },
  {
   "cell_type": "code",
   "execution_count": null,
   "id": "ccd9ad71",
   "metadata": {},
   "outputs": [],
   "source": []
  },
  {
   "cell_type": "code",
   "execution_count": null,
   "id": "8349c281",
   "metadata": {},
   "outputs": [],
   "source": []
  },
  {
   "cell_type": "code",
   "execution_count": null,
   "id": "00aa608c",
   "metadata": {},
   "outputs": [],
   "source": []
  }
 ],
 "metadata": {
  "kernelspec": {
   "display_name": "Python 3 (ipykernel)",
   "language": "python",
   "name": "python3"
  },
  "language_info": {
   "codemirror_mode": {
    "name": "ipython",
    "version": 3
   },
   "file_extension": ".py",
   "mimetype": "text/x-python",
   "name": "python",
   "nbconvert_exporter": "python",
   "pygments_lexer": "ipython3",
   "version": "3.11.5"
  }
 },
 "nbformat": 4,
 "nbformat_minor": 5
}
